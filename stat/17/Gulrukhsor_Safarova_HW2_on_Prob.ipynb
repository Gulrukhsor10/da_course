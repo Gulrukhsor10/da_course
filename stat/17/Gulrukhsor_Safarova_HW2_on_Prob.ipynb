{
 "cells": [
  {
   "cell_type": "markdown",
   "id": "e3ae8d0a-fd38-46b1-baa0-4ab745b93fb9",
   "metadata": {},
   "source": [
    "**Домашнее задание по теории вероятности #2**\n",
    "\n",
    "\n",
    "Гулрухсор Сафарова"
   ]
  },
  {
   "cell_type": "markdown",
   "id": "2882e64a-4899-4bb1-8d36-b5f039230c8c",
   "metadata": {},
   "source": [
    "**#1**\n",
    "\n",
    "Макс забыл пароль от своего телефона. Пароль состоял из пяти значений, каждое из которых может быть цифрой от 0 до 9. Сколько всего вариантов должен перебрать Макс, чтобы подобрать пароль к своему телефону?"
   ]
  },
  {
   "cell_type": "code",
   "execution_count": 58,
   "id": "047420cd-6057-47a6-a04c-8532c78b3027",
   "metadata": {},
   "outputs": [
    {
     "name": "stdout",
     "output_type": "stream",
     "text": [
      "100000\n"
     ]
    }
   ],
   "source": [
    "num_total_values = 10\n",
    "num_password_length = 5\n",
    "\n",
    "num_variants = num_total_values ** num_password_length\n",
    "print(num_variants)"
   ]
  },
  {
   "cell_type": "code",
   "execution_count": null,
   "id": "d31944db-ed78-449f-a19f-e8e19f702dd6",
   "metadata": {},
   "outputs": [],
   "source": []
  },
  {
   "cell_type": "markdown",
   "id": "da5243c0-5f28-4ef6-8b8a-e2a11942a56c",
   "metadata": {},
   "source": [
    "**# 2**\n",
    "\n",
    "У Малики есть все семь книг серии о Гарри Поттере. Сколькими способами она может расставить эти книги на полке?"
   ]
  },
  {
   "cell_type": "code",
   "execution_count": 64,
   "id": "78afe77d-33af-4773-b39f-8b92a03e8f66",
   "metadata": {},
   "outputs": [
    {
     "data": {
      "text/plain": [
       "5040"
      ]
     },
     "execution_count": 64,
     "metadata": {},
     "output_type": "execute_result"
    }
   ],
   "source": [
    "HP_books = 7\n",
    "\n",
    "arrangements = factorial(HP_books)\n",
    "arrangements"
   ]
  },
  {
   "cell_type": "code",
   "execution_count": null,
   "id": "1a049ef0-9892-43e9-9f8d-b3594cc5ffc3",
   "metadata": {},
   "outputs": [],
   "source": []
  },
  {
   "cell_type": "markdown",
   "id": "873b094f-175f-4189-8756-13b469fe0f90",
   "metadata": {},
   "source": [
    "**#3**\n",
    "\n",
    "На окружности круга размещены 9 точек. Сколько можно провести линий, соединяющих эти точки?"
   ]
  },
  {
   "cell_type": "code",
   "execution_count": 70,
   "id": "9ae23a97-f71a-4522-a6cc-65d62a56c611",
   "metadata": {},
   "outputs": [
    {
     "name": "stdout",
     "output_type": "stream",
     "text": [
      "36\n"
     ]
    }
   ],
   "source": [
    "number_points = 9\n",
    "\n",
    "lines = number_points * (number_points - 1) // 2\n",
    "print(lines)"
   ]
  },
  {
   "cell_type": "code",
   "execution_count": null,
   "id": "cca4781a-cc1d-4909-9332-6dfab05ab089",
   "metadata": {},
   "outputs": [],
   "source": []
  },
  {
   "cell_type": "markdown",
   "id": "75f21251-5a6f-4065-b1a7-e883da0dacc8",
   "metadata": {},
   "source": [
    "**#4**\n",
    "\n",
    "Транс-Сибирская железнодорожная магистраль тянется от Москвы до Владивостока. Всего, магистраль состоит из 19 станций. На билете указывается станция отбытия и станция пребытия. Сколько всего вариантов билетов существует?"
   ]
  },
  {
   "cell_type": "code",
   "execution_count": 72,
   "id": "3b974f10-58a9-4d3b-a52d-7d4ec2c11030",
   "metadata": {},
   "outputs": [
    {
     "data": {
      "text/plain": [
       "342"
      ]
     },
     "execution_count": 72,
     "metadata": {},
     "output_type": "execute_result"
    }
   ],
   "source": [
    "num_stations = 19\n",
    "\n",
    "ticket_options = num_stations * (num_stations - 1)\n",
    "ticket_options"
   ]
  },
  {
   "cell_type": "code",
   "execution_count": null,
   "id": "f88e3b14-0ac5-4eab-8aac-d25765c8530b",
   "metadata": {},
   "outputs": [],
   "source": []
  },
  {
   "cell_type": "markdown",
   "id": "2337d66c-6c74-49fb-998e-7daad3998652",
   "metadata": {},
   "source": [
    "**#5**\n",
    "\n",
    "Вы работаете в команде из 13 человек. Ваш менеджер решает рандомно выбрать 3 человек из команды и отправить на конференцию в Анталию, которая будет длится 4 дня. Какова вероятность того, что вам посчастливится поехать на конференцию?"
   ]
  },
  {
   "cell_type": "code",
   "execution_count": 74,
   "id": "e5cc6623-44a9-42dc-ace0-4cf63580d61e",
   "metadata": {},
   "outputs": [
    {
     "name": "stdout",
     "output_type": "stream",
     "text": [
      "0.23076923076923078\n"
     ]
    }
   ],
   "source": [
    "team_size = 13\n",
    "\n",
    "people_to_pickk = 3\n",
    "\n",
    "total_ways = (team_size * (team_size - 1) * (team_size - 2)) // (3 * 2 * 1)\n",
    "\n",
    "favorable_ways = (12 * 11) // (2 * 1)\n",
    "\n",
    "probability = favorable_ways / total_ways\n",
    "print(probability)\n"
   ]
  },
  {
   "cell_type": "code",
   "execution_count": null,
   "id": "eb743717-d487-4a9f-b66f-41f1435df08e",
   "metadata": {},
   "outputs": [],
   "source": []
  },
  {
   "cell_type": "code",
   "execution_count": null,
   "id": "68fb5c97-9fa8-4b0d-83a5-3ad44f463707",
   "metadata": {},
   "outputs": [],
   "source": []
  }
 ],
 "metadata": {
  "kernelspec": {
   "display_name": "Python 3 (ipykernel)",
   "language": "python",
   "name": "python3"
  },
  "language_info": {
   "codemirror_mode": {
    "name": "ipython",
    "version": 3
   },
   "file_extension": ".py",
   "mimetype": "text/x-python",
   "name": "python",
   "nbconvert_exporter": "python",
   "pygments_lexer": "ipython3",
   "version": "3.12.7"
  }
 },
 "nbformat": 4,
 "nbformat_minor": 5
}
