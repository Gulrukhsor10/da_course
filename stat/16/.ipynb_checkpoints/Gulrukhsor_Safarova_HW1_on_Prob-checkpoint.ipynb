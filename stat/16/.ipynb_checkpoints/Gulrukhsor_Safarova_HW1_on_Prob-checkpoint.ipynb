{
 "cells": [
  {
   "cell_type": "markdown",
   "id": "e3ae8d0a-fd38-46b1-baa0-4ab745b93fb9",
   "metadata": {},
   "source": [
    "**Домашнее задание по теории вероятности #1**\n",
    "\n",
    "\n",
    "Гулрухсор Сафарова"
   ]
  },
  {
   "cell_type": "markdown",
   "id": "2882e64a-4899-4bb1-8d36-b5f039230c8c",
   "metadata": {},
   "source": [
    "**#1**\n",
    "\n",
    "В колоде 52 карты. Мы решили вытащить из неё одну карту. Какова вероятность того, что это будет туз?"
   ]
  },
  {
   "cell_type": "code",
   "execution_count": 10,
   "id": "047420cd-6057-47a6-a04c-8532c78b3027",
   "metadata": {},
   "outputs": [
    {
     "name": "stdout",
     "output_type": "stream",
     "text": [
      "The probability that the card drawn will be an ace is: 0.07692307692307693\n"
     ]
    }
   ],
   "source": [
    "total_cards = 52\n",
    "number_of_aces = 4\n",
    "probability = number_of_aces / total_cards\n",
    "\n",
    "print(\"The probability that the card drawn will be an ace is:\", probability)"
   ]
  },
  {
   "cell_type": "code",
   "execution_count": null,
   "id": "90b76473-08d0-4f63-8f2f-a5c47bebf2cc",
   "metadata": {},
   "outputs": [],
   "source": []
  },
  {
   "cell_type": "markdown",
   "id": "da5243c0-5f28-4ef6-8b8a-e2a11942a56c",
   "metadata": {},
   "source": [
    "**# 2**\n",
    "\n",
    "Какова вероятность того что у трёх случайно выбранных людей будет одинаковая группа крови? Подсказка: для решения этой задачи нужно использовать как правило умножения так и правило сложения."
   ]
  },
  {
   "cell_type": "code",
   "execution_count": 13,
   "id": "78afe77d-33af-4773-b39f-8b92a03e8f66",
   "metadata": {},
   "outputs": [
    {
     "name": "stdout",
     "output_type": "stream",
     "text": [
      "The probability that three randomly selected people will have the same blood type: 0.0625\n"
     ]
    }
   ],
   "source": [
    "probability_same_blood_type = 1 * 0.25 * 0.25\n",
    "\n",
    "print(\"The probability that three randomly selected people will have the same blood type:\", probability_same_blood_type)"
   ]
  },
  {
   "cell_type": "code",
   "execution_count": null,
   "id": "1a049ef0-9892-43e9-9f8d-b3594cc5ffc3",
   "metadata": {},
   "outputs": [],
   "source": []
  },
  {
   "cell_type": "markdown",
   "id": "873b094f-175f-4189-8756-13b469fe0f90",
   "metadata": {},
   "source": [
    "**#3**\n",
    "\n",
    "Студент, сдаёт тест состоящий из 30 вопросов с четырьмя вариантами ответов, из которых лишь один правильный. Так как он вообще не посещал лекции, он просто наугад выбирает один из вариантов для каждого вопроса. Какова вероятность что он правильно ответит хотя бы на один вопрос?"
   ]
  },
  {
   "cell_type": "code",
   "execution_count": 25,
   "id": "9ae23a97-f71a-4522-a6cc-65d62a56c611",
   "metadata": {},
   "outputs": [
    {
     "name": "stdout",
     "output_type": "stream",
     "text": [
      "The probability that a student will answer at least one question correctly: 0.99982141790983\n"
     ]
    }
   ],
   "source": [
    "total_number_of_questions = 30\n",
    "answers_options_per_question = 4\n",
    "\n",
    "probability_of_wrong_answer_to_one_question = 3 / 4\n",
    "\n",
    "probability_of_wrong_answers_to_all_questions = probability_of_wrong_answer_to_one_question ** total_number_of_questions\n",
    "\n",
    "probability_at_least_one_right_answer = 1 - probability_of_wrong_answers_to_all_questions\n",
    "\n",
    "print(\"The probability that a student will answer at least one question correctly:\", probability_at_least_one_right_answer)\n"
   ]
  },
  {
   "cell_type": "code",
   "execution_count": null,
   "id": "cca4781a-cc1d-4909-9332-6dfab05ab089",
   "metadata": {},
   "outputs": [],
   "source": []
  },
  {
   "cell_type": "markdown",
   "id": "75f21251-5a6f-4065-b1a7-e883da0dacc8",
   "metadata": {},
   "source": [
    "**#4**\n",
    "\n",
    "Какова вероятность что хотя бы у одного из двух случайно выбранных людей месяц рождения такой же как и у вас?"
   ]
  },
  {
   "cell_type": "code",
   "execution_count": 39,
   "id": "3b974f10-58a9-4d3b-a52d-7d4ec2c11030",
   "metadata": {},
   "outputs": [
    {
     "name": "stdout",
     "output_type": "stream",
     "text": [
      "The probability that at least one of two people will have the same month of birth as you: 0.15972222222222232\n"
     ]
    }
   ],
   "source": [
    "probability_not_matching = 11 / 12\n",
    "\n",
    "probability_both_not_matching = probability_not_matching ** 2\n",
    "\n",
    "probability_at_least_one_matching = 1 - probability_both_not_matching\n",
    "\n",
    "print(\"The probability that at least one of two people will have the same month of birth as you:\", probability_at_least_one_matching)"
   ]
  },
  {
   "cell_type": "code",
   "execution_count": null,
   "id": "f88e3b14-0ac5-4eab-8aac-d25765c8530b",
   "metadata": {},
   "outputs": [],
   "source": []
  },
  {
   "cell_type": "markdown",
   "id": "2337d66c-6c74-49fb-998e-7daad3998652",
   "metadata": {},
   "source": [
    "**5**\n",
    "\n",
    "В колоде 52 карты. Мы решили вытащить из неё одну карту. Какова вероятность того что это будет либо валет, либо пиковая карта?"
   ]
  },
  {
   "cell_type": "code",
   "execution_count": 51,
   "id": "e5cc6623-44a9-42dc-ace0-4cf63580d61e",
   "metadata": {},
   "outputs": [
    {
     "name": "stdout",
     "output_type": "stream",
     "text": [
      "The probability that the card drawn will be either a jack or a pique: 0.3076923076923077\n"
     ]
    }
   ],
   "source": [
    "total_cards = 52\n",
    "jacks = 4\n",
    "pique_cards = 13\n",
    "pique_jack = 1\n",
    "\n",
    "probability = (jacks + pique_cards - pique_jack) / total_cards\n",
    "\n",
    "print(\"The probability that the card drawn will be either a jack or a pique:\", probability)"
   ]
  },
  {
   "cell_type": "code",
   "execution_count": null,
   "id": "eb743717-d487-4a9f-b66f-41f1435df08e",
   "metadata": {},
   "outputs": [],
   "source": []
  },
  {
   "cell_type": "code",
   "execution_count": null,
   "id": "68fb5c97-9fa8-4b0d-83a5-3ad44f463707",
   "metadata": {},
   "outputs": [],
   "source": []
  }
 ],
 "metadata": {
  "kernelspec": {
   "display_name": "Python 3 (ipykernel)",
   "language": "python",
   "name": "python3"
  },
  "language_info": {
   "codemirror_mode": {
    "name": "ipython",
    "version": 3
   },
   "file_extension": ".py",
   "mimetype": "text/x-python",
   "name": "python",
   "nbconvert_exporter": "python",
   "pygments_lexer": "ipython3",
   "version": "3.12.7"
  }
 },
 "nbformat": 4,
 "nbformat_minor": 5
}
