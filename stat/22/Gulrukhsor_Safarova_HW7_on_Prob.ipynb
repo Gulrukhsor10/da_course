{
 "cells": [
  {
   "cell_type": "markdown",
   "id": "e3ae8d0a-fd38-46b1-baa0-4ab745b93fb9",
   "metadata": {},
   "source": [
    "**Домашнее задание по теории вероятности #7**\n",
    "\n",
    "Гулрухсор Сафарова"
   ]
  },
  {
   "cell_type": "code",
   "execution_count": 16,
   "id": "2c4bd385-b664-4d1a-a4ec-3d9a680ee40a",
   "metadata": {},
   "outputs": [],
   "source": [
    "import numpy as np\n",
    "import pandas as pd\n",
    "import matplotlib.pyplot as plt\n",
    "import seaborn as sns\n",
    "import math\n",
    "from scipy import stats\n",
    "from scipy.stats import t"
   ]
  },
  {
   "cell_type": "markdown",
   "id": "2882e64a-4899-4bb1-8d36-b5f039230c8c",
   "metadata": {},
   "source": [
    "**#1**\n",
    "\n",
    "Производитель светодиодных лампочек заявляет что их продукция имеет средний срок службы в 2000 часов. Клиент считает что срок службы лампочек меньше заявляемого компанией. Чтобы проверить это клиент купил 50 лампочек производства этой компании и их средний срок службы составил 1980 часов, со стандартным отклонением в 66 часов. Проверьте гипотезы и вынесите заключение."
   ]
  },
  {
   "cell_type": "code",
   "execution_count": 19,
   "id": "047420cd-6057-47a6-a04c-8532c78b3027",
   "metadata": {},
   "outputs": [
    {
     "name": "stdout",
     "output_type": "stream",
     "text": [
      "t-статистика: -2.1427\n",
      "p-значение: 0.0186\n",
      "Отклоняем нулевую гипотезу: средний срок службы лампочек меньше 2000 часов.\n"
     ]
    }
   ],
   "source": [
    "mean_life_claimed = 2000\n",
    "mean_life_sample = 1980\n",
    "std_life_sample = 66\n",
    "sample_size_life = 50\n",
    "df_life = sample_size_life - 1\n",
    "\n",
    "t_stat_life = (mean_life_sample - mean_life_claimed) / (std_life_sample / np.sqrt(sample_size_life))\n",
    "\n",
    "p_value_life = t.cdf(t_stat_life, df_life)\n",
    "\n",
    "print(f\"t-статистика: {t_stat_life:.4f}\")\n",
    "print(f\"p-значение: {p_value_life:.4f}\")\n",
    "\n",
    "alpha_life = 0.05\n",
    "if p_value_life < alpha_life:\n",
    "    print(\"Отклоняем нулевую гипотезу: средний срок службы лампочек меньше 2000 часов.\")\n",
    "else:\n",
    "    print(\"Недостаточно доказательств для отклонения нулевой гипотезы.\")"
   ]
  },
  {
   "cell_type": "code",
   "execution_count": null,
   "id": "d31944db-ed78-449f-a19f-e8e19f702dd6",
   "metadata": {},
   "outputs": [],
   "source": []
  },
  {
   "cell_type": "markdown",
   "id": "da5243c0-5f28-4ef6-8b8a-e2a11942a56c",
   "metadata": {},
   "source": [
    "**# 2**\n",
    "\n",
    "Фасовочная машина заполняет мешки рисом в среднем по 1000гр на мешок и стандартным отклонением в 5гр. У производителя есть подозрение, что машина фасует рис в среднем больше требуемого. Он поручил сделать выборку из 100 мешков и их средний вес оказался равным 1003гр. Оправданы ли подозрения производителя?"
   ]
  },
  {
   "cell_type": "code",
   "execution_count": 24,
   "id": "78afe77d-33af-4773-b39f-8b92a03e8f66",
   "metadata": {},
   "outputs": [
    {
     "name": "stdout",
     "output_type": "stream",
     "text": [
      "t-статистика: 6.0000\n",
      "p-значение: 0.0000\n",
      "Отклоняем нулевую гипотезу: машина фасует больше 1000 г.\n"
     ]
    }
   ],
   "source": [
    "mu_0 = 1000\n",
    "x_bar = 1003\n",
    "s = 5\n",
    "n = 100\n",
    "df = n - 1\n",
    "\n",
    "t_stat = (x_bar - mu_0) / (s / np.sqrt(n))\n",
    "\n",
    "p_value = 1 - t.cdf(t_stat, df)\n",
    "\n",
    "print(f\"t-статистика: {t_stat:.4f}\")\n",
    "print(f\"p-значение: {p_value:.4f}\")\n",
    "\n",
    "alpha = 0.05\n",
    "if p_value < alpha:\n",
    "    print(\"Отклоняем нулевую гипотезу: машина фасует больше 1000 г.\")\n",
    "else:\n",
    "    print(\"Нет оснований отвергать нулевую гипотезу.\")"
   ]
  },
  {
   "cell_type": "code",
   "execution_count": null,
   "id": "1a049ef0-9892-43e9-9f8d-b3594cc5ffc3",
   "metadata": {},
   "outputs": [],
   "source": []
  },
  {
   "cell_type": "markdown",
   "id": "873b094f-175f-4189-8756-13b469fe0f90",
   "metadata": {},
   "source": [
    "**#3**\n",
    "\n",
    "Утверждается что домашние коты живут в среднем 15.7 лет. Учёный решил проверить истинность этого утверждения и замерил срок жизни 40 домашних котов в своём городе. Средний срок жизни котов в выборке оказался равным 16.5 годам со стандартным отклонением в 1.6 лет. Значит ли это, что коты в среднем живут дольше чем принято считать?"
   ]
  },
  {
   "cell_type": "code",
   "execution_count": 28,
   "id": "9ae23a97-f71a-4522-a6cc-65d62a56c611",
   "metadata": {},
   "outputs": [
    {
     "name": "stdout",
     "output_type": "stream",
     "text": [
      "t-статистика: 3.1623\n",
      "p-значение: 0.0015\n",
      "Отклоняем нулевую гипотезу: коты действительно живут дольше 15.7 лет.\n"
     ]
    }
   ],
   "source": [
    "mu_0 = 15.7\n",
    "x_bar = 16.5\n",
    "s = 1.6\n",
    "n = 40\n",
    "df = n - 1\n",
    "\n",
    "t_stat = (x_bar - mu_0) / (s / np.sqrt(n))\n",
    "\n",
    "p_value = 1 - t.cdf(t_stat, df)\n",
    "\n",
    "print(f\"t-статистика: {t_stat:.4f}\")\n",
    "print(f\"p-значение: {p_value:.4f}\")\n",
    "\n",
    "alpha = 0.05\n",
    "if p_value < alpha:\n",
    "    print(\"Отклоняем нулевую гипотезу: коты действительно живут дольше 15.7 лет.\")\n",
    "else:\n",
    "    print(\"Нет оснований отвергать нулевую гипотезу.\")"
   ]
  },
  {
   "cell_type": "code",
   "execution_count": null,
   "id": "cca4781a-cc1d-4909-9332-6dfab05ab089",
   "metadata": {},
   "outputs": [],
   "source": []
  },
  {
   "cell_type": "markdown",
   "id": "75f21251-5a6f-4065-b1a7-e883da0dacc8",
   "metadata": {},
   "source": [
    "**#4**\n",
    "\n",
    "Здоровый новорожденный весит в среднем 3.40кг со стандартным отклонением в 0.45кг. Выборка из 49 новорожденных была взвешена и средний вес оказался равным 3.29кг. Проверьте следующие гипотезы:  H_0: mu=3.40 и H_a: mu<3.4"
   ]
  },
  {
   "cell_type": "code",
   "execution_count": 31,
   "id": "3b974f10-58a9-4d3b-a52d-7d4ec2c11030",
   "metadata": {},
   "outputs": [
    {
     "name": "stdout",
     "output_type": "stream",
     "text": [
      "t-статистика: -1.7111\n",
      "p-значение: 0.0468\n",
      "Отклоняем нулевую гипотезу: средний вес новорожденных меньше 3.40 кг.\n"
     ]
    }
   ],
   "source": [
    "mu_0 = 3.40\n",
    "x_bar = 3.29\n",
    "s = 0.45\n",
    "n = 49\n",
    "df = n - 1\n",
    "\n",
    "t_stat = (x_bar - mu_0) / (s / np.sqrt(n))\n",
    "\n",
    "p_value = t.cdf(t_stat, df)\n",
    "\n",
    "print(f\"t-статистика: {t_stat:.4f}\")\n",
    "print(f\"p-значение: {p_value:.4f}\")\n",
    "\n",
    "alpha = 0.05\n",
    "if p_value < alpha:\n",
    "    print(\"Отклоняем нулевую гипотезу: средний вес новорожденных меньше 3.40 кг.\")\n",
    "else:\n",
    "    print(\"Нет оснований отвергать нулевую гипотезу.\")"
   ]
  },
  {
   "cell_type": "code",
   "execution_count": null,
   "id": "f88e3b14-0ac5-4eab-8aac-d25765c8530b",
   "metadata": {},
   "outputs": [],
   "source": []
  },
  {
   "cell_type": "markdown",
   "id": "2337d66c-6c74-49fb-998e-7daad3998652",
   "metadata": {},
   "source": [
    "**#5**\n",
    "\n",
    "В популяции средний показатель IQ составляет 100 со стандартным отклонением 15. Команда ученых хочет проверить новое лекарство, чтобы выяснить, оказывает ли оно положительное или отрицательное влияние на интеллект, или же не оказывает никакого эффекта. В выборке из 30 участников, которые принимали лекарство, средний показатель IQ составил 140. Повлияло ли лекарство на интеллект?"
   ]
  },
  {
   "cell_type": "code",
   "execution_count": 35,
   "id": "e5cc6623-44a9-42dc-ace0-4cf63580d61e",
   "metadata": {},
   "outputs": [
    {
     "name": "stdout",
     "output_type": "stream",
     "text": [
      "t-статистика: 14.6059\n",
      "p-значение: 0.0000000000\n",
      "Отклоняем нулевую гипотезу: лекарство действительно влияет на IQ.\n"
     ]
    }
   ],
   "source": [
    "mu_0 = 100\n",
    "x_bar = 140\n",
    "s = 15\n",
    "n = 30\n",
    "df = n - 1\n",
    "\n",
    "t_stat = (x_bar - mu_0) / (s / np.sqrt(n))\n",
    "\n",
    "p_value = 2 * (1 - t.cdf(abs(t_stat), df))\n",
    "\n",
    "print(f\"t-статистика: {t_stat:.4f}\")\n",
    "print(f\"p-значение: {p_value:.10f}\")\n",
    "\n",
    "alpha = 0.05\n",
    "if p_value < alpha:\n",
    "    print(\"Отклоняем нулевую гипотезу: лекарство действительно влияет на IQ.\")\n",
    "else:\n",
    "    print(\"Нет оснований отвергать нулевую гипотезу.\")"
   ]
  },
  {
   "cell_type": "code",
   "execution_count": null,
   "id": "eb743717-d487-4a9f-b66f-41f1435df08e",
   "metadata": {},
   "outputs": [],
   "source": []
  },
  {
   "cell_type": "code",
   "execution_count": null,
   "id": "68fb5c97-9fa8-4b0d-83a5-3ad44f463707",
   "metadata": {},
   "outputs": [],
   "source": []
  }
 ],
 "metadata": {
  "kernelspec": {
   "display_name": "Python 3 (ipykernel)",
   "language": "python",
   "name": "python3"
  },
  "language_info": {
   "codemirror_mode": {
    "name": "ipython",
    "version": 3
   },
   "file_extension": ".py",
   "mimetype": "text/x-python",
   "name": "python",
   "nbconvert_exporter": "python",
   "pygments_lexer": "ipython3",
   "version": "3.12.7"
  }
 },
 "nbformat": 4,
 "nbformat_minor": 5
}
