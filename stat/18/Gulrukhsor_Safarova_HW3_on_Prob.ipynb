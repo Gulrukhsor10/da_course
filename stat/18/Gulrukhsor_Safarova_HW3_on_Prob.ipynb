{
 "cells": [
  {
   "cell_type": "markdown",
   "id": "e3ae8d0a-fd38-46b1-baa0-4ab745b93fb9",
   "metadata": {},
   "source": [
    "**Домашнее задание по теории вероятности #3**\n",
    "\n",
    "\n",
    "Гулрухсор Сафарова"
   ]
  },
  {
   "cell_type": "markdown",
   "id": "2882e64a-4899-4bb1-8d36-b5f039230c8c",
   "metadata": {},
   "source": [
    "**#1**\n",
    "\n",
    "В колоде 52 карты. Вы поочерёдно вытаскиваете из колоды две карты, без возврата. Какова вероятность того, что вы вытащите два туза?"
   ]
  },
  {
   "cell_type": "code",
   "execution_count": 14,
   "id": "047420cd-6057-47a6-a04c-8532c78b3027",
   "metadata": {},
   "outputs": [
    {
     "name": "stdout",
     "output_type": "stream",
     "text": [
      "The probability of drawing two aces is: 0.00452\n"
     ]
    }
   ],
   "source": [
    "from math import comb\n",
    "\n",
    "def probability_two_aces():\n",
    "    total_combinations = comb(52, 2)\n",
    "\n",
    "    ace_combinations = comb(4, 2)\n",
    "\n",
    "    probability = ace_combinations / total_combinations\n",
    "\n",
    "    return probability\n",
    "\n",
    "result = probability_two_aces()\n",
    "print(f\"The probability of drawing two aces is: {result:.5f}\")"
   ]
  },
  {
   "cell_type": "code",
   "execution_count": null,
   "id": "d31944db-ed78-449f-a19f-e8e19f702dd6",
   "metadata": {},
   "outputs": [],
   "source": []
  },
  {
   "cell_type": "markdown",
   "id": "da5243c0-5f28-4ef6-8b8a-e2a11942a56c",
   "metadata": {},
   "source": [
    "**# 2**\n",
    "\n",
    "Ваш друг просыпается поздно в среднем четыре дня из пяти. Если он просыпается поздно, он опаздывает на работу с вероятностью 70%. Если же он просыпается вовремя, он опаздывает с вероятностью 10%. Какова вероятность того, что ваш друг опоздает на работу?"
   ]
  },
  {
   "cell_type": "code",
   "execution_count": 16,
   "id": "78afe77d-33af-4773-b39f-8b92a03e8f66",
   "metadata": {},
   "outputs": [
    {
     "name": "stdout",
     "output_type": "stream",
     "text": [
      "The probability of being late to work is: 0.58000\n"
     ]
    }
   ],
   "source": [
    "def probability_late_to_work():\n",
    "    p_late = 4 / 5\n",
    "    p_on_time = 1 / 5\n",
    "\n",
    "    p_late_given_late = 0.7\n",
    "    p_late_given_on_time = 0.1\n",
    "\n",
    "    p_late_to_work = (p_late * p_late_given_late) + (p_on_time * p_late_given_on_time)\n",
    "\n",
    "    return p_late_to_work\n",
    "\n",
    "late_to_work_result = probability_late_to_work()\n",
    "print(f\"The probability of being late to work is: {late_to_work_result:.5f}\")"
   ]
  },
  {
   "cell_type": "code",
   "execution_count": null,
   "id": "1a049ef0-9892-43e9-9f8d-b3594cc5ffc3",
   "metadata": {},
   "outputs": [],
   "source": []
  },
  {
   "cell_type": "markdown",
   "id": "873b094f-175f-4189-8756-13b469fe0f90",
   "metadata": {},
   "source": [
    "**#3**\n",
    "\n",
    "В мешке содержатся 3 белых шара, 4 зелёных шара и 5 красных шаров. Вы вытаскиваете поочерёдно два шара из мешка, без возврата. Какова вероятность того, что вы вытащите зелёный и красный шары в любом порядке?"
   ]
  },
  {
   "cell_type": "code",
   "execution_count": 18,
   "id": "9ae23a97-f71a-4522-a6cc-65d62a56c611",
   "metadata": {},
   "outputs": [
    {
     "name": "stdout",
     "output_type": "stream",
     "text": [
      "The probability of drawing one green and one red ball is: 0.30303\n"
     ]
    }
   ],
   "source": [
    "def probability_green_and_red():\n",
    "    total_balls = 3 + 4 + 5\n",
    "\n",
    "    total_combinations = comb(total_balls, 2)\n",
    "\n",
    "    green_red_combinations = comb(4, 1) * comb(5, 1)\n",
    "\n",
    "    probability = green_red_combinations / total_combinations\n",
    "\n",
    "    return probability\n",
    "\n",
    "green_red_result = probability_green_and_red()\n",
    "print(f\"The probability of drawing one green and one red ball is: {green_red_result:.5f}\")"
   ]
  },
  {
   "cell_type": "code",
   "execution_count": null,
   "id": "cca4781a-cc1d-4909-9332-6dfab05ab089",
   "metadata": {},
   "outputs": [],
   "source": []
  },
  {
   "cell_type": "markdown",
   "id": "75f21251-5a6f-4065-b1a7-e883da0dacc8",
   "metadata": {},
   "source": [
    "**#4**\n",
    "\n",
    "На фабрике по производству чипсов 98% всех упаковок содержат вкусовые добавки. В рамках испытаний, группе добровольцев было предложено попробовать чипсы и определить имеются ли в них вкусовые добавки. 99% испытуемых попробовав чипсы со вкусовыми добавками ответили \"Да\". При этом, 2.5% испытуемых, которым были поданы чипсы без вкусовых добавок, также ответили \"Да\" . Если попробовав рандомно выбранную упаковку, испытуемый отвечает \"Нет\", какова вероятность того что чипсы действительно не содержат вкусовых добавок?"
   ]
  },
  {
   "cell_type": "code",
   "execution_count": 20,
   "id": "3b974f10-58a9-4d3b-a52d-7d4ec2c11030",
   "metadata": {},
   "outputs": [
    {
     "name": "stdout",
     "output_type": "stream",
     "text": [
      "The probability that the chips do not contain flavoring given a 'No' response is: 0.66553\n"
     ]
    }
   ],
   "source": [
    "def probability_no_flavor_given_no_response():\n",
    "    p_flavored = 0.98\n",
    "    p_non_flavored = 0.02\n",
    "\n",
    "    p_no_given_flavored = 1 - 0.99\n",
    "    p_no_given_non_flavored = 1 - 0.025\n",
    "\n",
    "    p_no = (p_flavored * p_no_given_flavored) + (p_non_flavored * p_no_given_non_flavored)\n",
    "\n",
    "    p_non_flavored_given_no = (p_non_flavored * p_no_given_non_flavored) / p_no\n",
    "\n",
    "    return p_non_flavored_given_no\n",
    "\n",
    "no_flavor_result = probability_no_flavor_given_no_response()\n",
    "print(f\"The probability that the chips do not contain flavoring given a 'No' response is: {no_flavor_result:.5f}\")"
   ]
  },
  {
   "cell_type": "code",
   "execution_count": null,
   "id": "f88e3b14-0ac5-4eab-8aac-d25765c8530b",
   "metadata": {},
   "outputs": [],
   "source": []
  },
  {
   "cell_type": "markdown",
   "id": "2337d66c-6c74-49fb-998e-7daad3998652",
   "metadata": {},
   "source": [
    "**#5**\n",
    "\n",
    "Известно что движок некоей модели автомобиля перегревается в 3% случаев. При перегреве движка, в 98% случаев включается индикатор оповещения. Однако, в 1% случаев, индикатор включается без перегрева. Ответьте на следующие вопросы:\n",
    "\n",
    "-какова вероятность включения индикатора?\n",
    "-если водитель видит включённый индикатор, какова вероятность того что движок действительно перегрелся?"
   ]
  },
  {
   "cell_type": "code",
   "execution_count": 22,
   "id": "e5cc6623-44a9-42dc-ace0-4cf63580d61e",
   "metadata": {},
   "outputs": [
    {
     "name": "stdout",
     "output_type": "stream",
     "text": [
      "The probability of the indicator activating is: 0.03910\n",
      "The probability that the engine has overheated given the indicator is on is: 0.75192\n"
     ]
    }
   ],
   "source": [
    "def indicator_probabilities():\n",
    "    p_overheat = 0.03\n",
    "    p_no_overheat = 0.97\n",
    "\n",
    "    p_indicator_given_overheat = 0.98\n",
    "    p_indicator_given_no_overheat = 0.01\n",
    "\n",
    "    p_indicator = (p_overheat * p_indicator_given_overheat) + (p_no_overheat * p_indicator_given_no_overheat)\n",
    "\n",
    "    p_overheat_given_indicator = (p_overheat * p_indicator_given_overheat) / p_indicator\n",
    "\n",
    "    return p_indicator, p_overheat_given_indicator\n",
    "\n",
    "indicator_result, overheat_given_indicator_result = indicator_probabilities()\n",
    "print(f\"The probability of the indicator activating is: {indicator_result:.5f}\")\n",
    "print(f\"The probability that the engine has overheated given the indicator is on is: {overheat_given_indicator_result:.5f}\")"
   ]
  },
  {
   "cell_type": "code",
   "execution_count": null,
   "id": "eb743717-d487-4a9f-b66f-41f1435df08e",
   "metadata": {},
   "outputs": [],
   "source": []
  },
  {
   "cell_type": "code",
   "execution_count": null,
   "id": "68fb5c97-9fa8-4b0d-83a5-3ad44f463707",
   "metadata": {},
   "outputs": [],
   "source": []
  }
 ],
 "metadata": {
  "kernelspec": {
   "display_name": "Python 3 (ipykernel)",
   "language": "python",
   "name": "python3"
  },
  "language_info": {
   "codemirror_mode": {
    "name": "ipython",
    "version": 3
   },
   "file_extension": ".py",
   "mimetype": "text/x-python",
   "name": "python",
   "nbconvert_exporter": "python",
   "pygments_lexer": "ipython3",
   "version": "3.12.7"
  }
 },
 "nbformat": 4,
 "nbformat_minor": 5
}
