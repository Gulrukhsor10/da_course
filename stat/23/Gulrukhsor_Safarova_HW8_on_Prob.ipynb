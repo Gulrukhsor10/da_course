{
 "cells": [
  {
   "cell_type": "markdown",
   "id": "e3ae8d0a-fd38-46b1-baa0-4ab745b93fb9",
   "metadata": {},
   "source": [
    "**Домашнее задание по теории вероятности #8**\n",
    "\n",
    "Гулрухсор Сафарова"
   ]
  },
  {
   "cell_type": "code",
   "execution_count": 33,
   "id": "2c4bd385-b664-4d1a-a4ec-3d9a680ee40a",
   "metadata": {},
   "outputs": [],
   "source": [
    "import numpy as np\n",
    "import pandas as pd\n",
    "import matplotlib.pyplot as plt\n",
    "import seaborn as sns\n",
    "import math\n",
    "from scipy import stats\n",
    "from scipy.stats import t\n",
    "from scipy.stats import chi2_contingency\n",
    "from scipy.stats import f_oneway\n",
    "from scipy.stats import ttest_rel"
   ]
  },
  {
   "cell_type": "markdown",
   "id": "2882e64a-4899-4bb1-8d36-b5f039230c8c",
   "metadata": {},
   "source": [
    "**#1**\n",
    "\n",
    "Решите следующие задачи, принимая уровень значимости равным 5%:\n",
    "\n",
    "У случайной выборки людей разного возраста спросили надевают ли они очки при чтении. Результаты приведены в таблице ниже. Имеется ли взаимосвязь между возрастом и ношением очков? "
   ]
  },
  {
   "cell_type": "code",
   "execution_count": 36,
   "id": "047420cd-6057-47a6-a04c-8532c78b3027",
   "metadata": {},
   "outputs": [
    {
     "name": "stdout",
     "output_type": "stream",
     "text": [
      "Статистика хи-квадрат: 36.795113057987386\n",
      "p-значение: 5.0843273728433166e-08\n",
      "Степени свободы: 3\n",
      "Ожидаемые частоты:\n",
      "[[31.29259259 39.70740741]\n",
      " [24.68148148 31.31851852]\n",
      " [30.41111111 38.58888889]\n",
      " [32.61481481 41.38518519]]\n",
      "Отклоняем нулевую гипотезу: существует зависимость между возрастом и ношением очков.\n"
     ]
    }
   ],
   "source": [
    "observed = np.array([\n",
    "    [15, 56],\n",
    "    [19, 37],\n",
    "    [34, 35],\n",
    "    [51, 23]\n",
    "])\n",
    "\n",
    "chi2, p_value, dof, expected = chi2_contingency(observed)\n",
    "\n",
    "print(\"Статистика хи-квадрат:\", chi2)\n",
    "print(\"p-значение:\", p_value)\n",
    "print(\"Степени свободы:\", dof)\n",
    "print(\"Ожидаемые частоты:\")\n",
    "print(expected)\n",
    "\n",
    "alpha = 0.05\n",
    "\n",
    "if p_value < alpha:\n",
    "    print(\"Отклоняем нулевую гипотезу: существует зависимость между возрастом и ношением очков.\")\n",
    "else:\n",
    "    print(\"Не удалось отклонить нулевую гипотезу: зависимость не обнаружена.\")"
   ]
  },
  {
   "cell_type": "code",
   "execution_count": null,
   "id": "d31944db-ed78-449f-a19f-e8e19f702dd6",
   "metadata": {},
   "outputs": [],
   "source": []
  },
  {
   "cell_type": "markdown",
   "id": "da5243c0-5f28-4ef6-8b8a-e2a11942a56c",
   "metadata": {},
   "source": [
    "**# 2**\n",
    "\n",
    "Случайная выборка студентов была разделена на 3 группы и каждая из них готовилась к сдаче экзамена по одной из 3 методик (A, B, C). В таблице ниже приведены оценки по экзамену студентов каждой группы. Определите имеются ли различия между группами."
   ]
  },
  {
   "cell_type": "code",
   "execution_count": 40,
   "id": "78afe77d-33af-4773-b39f-8b92a03e8f66",
   "metadata": {},
   "outputs": [
    {
     "name": "stdout",
     "output_type": "stream",
     "text": [
      "F-статистика: 2.3575322551335636\n",
      "p-значение: 0.11384795345837218\n",
      "Не удалось отклонить нулевую гипотезу: различий между группами не обнаружено.\n"
     ]
    }
   ],
   "source": [
    "group1 = [85, 86, 88, 75, 78, 94, 98, 79, 71, 80]\n",
    "group2 = [91, 92, 93, 85, 87, 84, 82, 88, 95, 96]\n",
    "group3 = [79, 78, 88, 94, 92, 85, 83, 85, 82, 81]\n",
    "\n",
    "f_statistic, p_value = f_oneway(group1, group2, group3)\n",
    "\n",
    "print(\"F-статистика:\", f_statistic)\n",
    "print(\"p-значение:\", p_value)\n",
    "\n",
    "alpha = 0.05\n",
    "\n",
    "if p_value < alpha:\n",
    "    print(\"Отклоняем нулевую гипотезу: существуют различия между группами.\")\n",
    "else:\n",
    "    print(\"Не удалось отклонить нулевую гипотезу: различий между группами не обнаружено.\")"
   ]
  },
  {
   "cell_type": "code",
   "execution_count": null,
   "id": "1a049ef0-9892-43e9-9f8d-b3594cc5ffc3",
   "metadata": {},
   "outputs": [],
   "source": []
  },
  {
   "cell_type": "markdown",
   "id": "873b094f-175f-4189-8756-13b469fe0f90",
   "metadata": {},
   "source": [
    "**#3**\n",
    "\n",
    "Случайная выборка 20 игроков в баскетбол была отобрана для улучшения высоты их вертикального прыжка специальным методом тренировок. Высота максимального вертикального прыжка (в сантиметрах) каждого игрока измерили при отборе а потом измерили повторно, после прохождения тренировок. Результаты представлены в таблице ниже. Улучшила ли программа высоту вертикального прыжка игроков?"
   ]
  },
  {
   "cell_type": "code",
   "execution_count": 44,
   "id": "9ae23a97-f71a-4522-a6cc-65d62a56c611",
   "metadata": {},
   "outputs": [
    {
     "name": "stdout",
     "output_type": "stream",
     "text": [
      "t-статистика: -3.2261733111671806\n",
      "p-значение: 0.004445370704412229\n",
      "Отклоняем нулевую гипотезу: программа улучшила высоту прыжков.\n"
     ]
    }
   ],
   "source": [
    "before = [\n",
    "    55.88, 50.80, 48.26, 60.96, 63.50, 63.50, 71.12, 55.88, 76.20, 68.58,\n",
    "    60.96, 45.72, 40.64, 48.26, 48.26, 71.12, 60.96, 63.50, 63.50, 58.42\n",
    "]\n",
    "after = [\n",
    "    60.96, 55.88, 48.26, 55.88, 71.12, 66.04, 71.12, 60.96, 76.20, 73.66,\n",
    "    63.50, 50.80, 43.18, 45.72, 45.72, 71.12, 66.04, 68.58, 68.58, 60.96\n",
    "]\n",
    "\n",
    "t_statistic, p_value = ttest_rel(before, after)\n",
    "\n",
    "print(\"t-статистика:\", t_statistic)\n",
    "print(\"p-значение:\", p_value)\n",
    "\n",
    "alpha = 0.05\n",
    "\n",
    "if p_value < alpha:\n",
    "    print(\"Отклоняем нулевую гипотезу: программа улучшила высоту прыжков.\")\n",
    "else:\n",
    "    print(\"Не удалось отклонить нулевую гипотезу: программа не улучшила высоту прыжков.\")"
   ]
  },
  {
   "cell_type": "code",
   "execution_count": null,
   "id": "cca4781a-cc1d-4909-9332-6dfab05ab089",
   "metadata": {},
   "outputs": [],
   "source": []
  },
  {
   "cell_type": "code",
   "execution_count": null,
   "id": "68fb5c97-9fa8-4b0d-83a5-3ad44f463707",
   "metadata": {},
   "outputs": [],
   "source": []
  }
 ],
 "metadata": {
  "kernelspec": {
   "display_name": "Python 3 (ipykernel)",
   "language": "python",
   "name": "python3"
  },
  "language_info": {
   "codemirror_mode": {
    "name": "ipython",
    "version": 3
   },
   "file_extension": ".py",
   "mimetype": "text/x-python",
   "name": "python",
   "nbconvert_exporter": "python",
   "pygments_lexer": "ipython3",
   "version": "3.12.7"
  }
 },
 "nbformat": 4,
 "nbformat_minor": 5
}
