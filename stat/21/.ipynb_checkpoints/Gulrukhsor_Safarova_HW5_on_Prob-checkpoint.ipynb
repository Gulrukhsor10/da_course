{
 "cells": [
  {
   "cell_type": "markdown",
   "id": "e3ae8d0a-fd38-46b1-baa0-4ab745b93fb9",
   "metadata": {},
   "source": [
    "**Домашнее задание по теории вероятности #5**\n",
    "\n",
    "Гулрухсор Сафарова"
   ]
  },
  {
   "cell_type": "markdown",
   "id": "2882e64a-4899-4bb1-8d36-b5f039230c8c",
   "metadata": {},
   "source": [
    "**#1**\n",
    "\n",
    "Есть переменная X с нормальным распределением. Если стандартизированное значение X равно 1.27 (z = 1.27), то какова вероятность P(Z≤1.27)?"
   ]
  },
  {
   "cell_type": "code",
   "execution_count": 15,
   "id": "047420cd-6057-47a6-a04c-8532c78b3027",
   "metadata": {},
   "outputs": [
    {
     "name": "stdout",
     "output_type": "stream",
     "text": [
      "P(Z <= 1.27) = 0.8980\n"
     ]
    }
   ],
   "source": [
    "from scipy.stats import norm\n",
    "\n",
    "z = 1.27\n",
    "\n",
    "probability = norm.cdf(z)\n",
    "\n",
    "print(f\"P(Z <= {z}) = {probability:.4f}\")"
   ]
  },
  {
   "cell_type": "code",
   "execution_count": null,
   "id": "d31944db-ed78-449f-a19f-e8e19f702dd6",
   "metadata": {},
   "outputs": [],
   "source": []
  },
  {
   "cell_type": "markdown",
   "id": "da5243c0-5f28-4ef6-8b8a-e2a11942a56c",
   "metadata": {},
   "source": [
    "**# 2**\n",
    "\n",
    "Допустим что Z это переменная со стандартным нормальным распределением. Какова вероятность P(−1.76<Z<−1.19)?"
   ]
  },
  {
   "cell_type": "code",
   "execution_count": 19,
   "id": "78afe77d-33af-4773-b39f-8b92a03e8f66",
   "metadata": {},
   "outputs": [
    {
     "name": "stdout",
     "output_type": "stream",
     "text": [
      "P(-1.76 < Z < -1.19) = 0.0778\n"
     ]
    }
   ],
   "source": [
    "z1 = -1.76\n",
    "z2 = -1.19\n",
    "\n",
    "probability_range = norm.cdf(z2) - norm.cdf(z1)\n",
    "\n",
    "print(f\"P({z1} < Z < {z2}) = {probability_range:.4f}\")"
   ]
  },
  {
   "cell_type": "code",
   "execution_count": null,
   "id": "1a049ef0-9892-43e9-9f8d-b3594cc5ffc3",
   "metadata": {},
   "outputs": [],
   "source": []
  },
  {
   "cell_type": "markdown",
   "id": "873b094f-175f-4189-8756-13b469fe0f90",
   "metadata": {},
   "source": [
    "**#3**\n",
    "\n",
    "У 95.45% девушек старших классов, вес находится в диапазоне от 38кг до 52кг. Если предположить, что вес девушек распределён нормально, найдите среднее значение и стандартное отклонение."
   ]
  },
  {
   "cell_type": "code",
   "execution_count": 23,
   "id": "9ae23a97-f71a-4522-a6cc-65d62a56c611",
   "metadata": {},
   "outputs": [
    {
     "name": "stdout",
     "output_type": "stream",
     "text": [
      "Среднее значение (mean) = 45.00\n",
      "Стандартное отклонение (std_dev) = 3.50\n"
     ]
    }
   ],
   "source": [
    "lower_weight = 38  \n",
    "upper_weight = 52  \n",
    "probability = 0.9545 \n",
    "\n",
    "z_lower = -2\n",
    "z_upper = 2\n",
    "\n",
    "mean = (lower_weight + upper_weight) / 2\n",
    "std_dev = (upper_weight - lower_weight) / (z_upper - z_lower)\n",
    "\n",
    "print(f\"Среднее значение (mean) = {mean:.2f}\")\n",
    "print(f\"Стандартное отклонение (std_dev) = {std_dev:.2f}\")"
   ]
  },
  {
   "cell_type": "code",
   "execution_count": null,
   "id": "cca4781a-cc1d-4909-9332-6dfab05ab089",
   "metadata": {},
   "outputs": [],
   "source": []
  },
  {
   "cell_type": "markdown",
   "id": "75f21251-5a6f-4065-b1a7-e883da0dacc8",
   "metadata": {},
   "source": [
    "**#4**\n",
    "\n",
    "Длина указательного пальца взрослых мужчин примерно соответствует нормальному распределению, с μ = 7.5cm и σ = 0.5cm. Какова вероятность того, что длина указательного пальца случайно выбранного мужчины будет в диапазоне от 7.3см до 8,7см?"
   ]
  },
  {
   "cell_type": "code",
   "execution_count": 26,
   "id": "3b974f10-58a9-4d3b-a52d-7d4ec2c11030",
   "metadata": {},
   "outputs": [
    {
     "name": "stdout",
     "output_type": "stream",
     "text": [
      "P(7.3 <= X <= 8.7) = 0.6472\n"
     ]
    }
   ],
   "source": [
    "mu = 7.5  \n",
    "sigma = 0.5 \n",
    "lower_length = 7.3  \n",
    "upper_length = 8.7  \n",
    "\n",
    "z_lower_length = (lower_length - mu) / sigma\n",
    "z_upper_length = (upper_length - mu) / sigma\n",
    "probability_finger_length = norm.cdf(z_upper_length) - norm.cdf(z_lower_length)\n",
    "\n",
    "print(f\"P({lower_length} <= X <= {upper_length}) = {probability_finger_length:.4f}\")"
   ]
  },
  {
   "cell_type": "code",
   "execution_count": null,
   "id": "f88e3b14-0ac5-4eab-8aac-d25765c8530b",
   "metadata": {},
   "outputs": [],
   "source": []
  },
  {
   "cell_type": "markdown",
   "id": "2337d66c-6c74-49fb-998e-7daad3998652",
   "metadata": {},
   "source": [
    "**#5**\n",
    "\n",
    "IQ человека является нормально распределённой величиной с μ = 100 и σ = 15. Какова вероятность того, что у случайно выбранного человека IQ будет выше 140?"
   ]
  },
  {
   "cell_type": "code",
   "execution_count": 29,
   "id": "e5cc6623-44a9-42dc-ace0-4cf63580d61e",
   "metadata": {},
   "outputs": [
    {
     "name": "stdout",
     "output_type": "stream",
     "text": [
      "P(IQ > 140) = 0.0038\n"
     ]
    }
   ],
   "source": [
    "mu_iq = 100  \n",
    "sigma_iq = 15  \n",
    "threshold_iq = 140  \n",
    "\n",
    "z_iq = (threshold_iq - mu_iq) / sigma_iq\n",
    "probability_iq = 1 - norm.cdf(z_iq)\n",
    "\n",
    "print(f\"P(IQ > {threshold_iq}) = {probability_iq:.4f}\")"
   ]
  },
  {
   "cell_type": "code",
   "execution_count": null,
   "id": "eb743717-d487-4a9f-b66f-41f1435df08e",
   "metadata": {},
   "outputs": [],
   "source": []
  },
  {
   "cell_type": "code",
   "execution_count": null,
   "id": "68fb5c97-9fa8-4b0d-83a5-3ad44f463707",
   "metadata": {},
   "outputs": [],
   "source": []
  }
 ],
 "metadata": {
  "kernelspec": {
   "display_name": "Python 3 (ipykernel)",
   "language": "python",
   "name": "python3"
  },
  "language_info": {
   "codemirror_mode": {
    "name": "ipython",
    "version": 3
   },
   "file_extension": ".py",
   "mimetype": "text/x-python",
   "name": "python",
   "nbconvert_exporter": "python",
   "pygments_lexer": "ipython3",
   "version": "3.12.7"
  }
 },
 "nbformat": 4,
 "nbformat_minor": 5
}
