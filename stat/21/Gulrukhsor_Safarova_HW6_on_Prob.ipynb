{
 "cells": [
  {
   "cell_type": "markdown",
   "id": "e3ae8d0a-fd38-46b1-baa0-4ab745b93fb9",
   "metadata": {},
   "source": [
    "**Домашнее задание по теории вероятности #6**\n",
    "\n",
    "Гулрухсор Сафарова"
   ]
  },
  {
   "cell_type": "markdown",
   "id": "2882e64a-4899-4bb1-8d36-b5f039230c8c",
   "metadata": {},
   "source": [
    "**#1**\n",
    "\n",
    "Имеется следующая выборка [6, 8, 11, 11, 17, 21, 34, 35, 41, 42, 43, 46, 54, 54, 59, 62], где каждое наблюдение это возраст человека. Какова точечная оценка среднего значения и стандартного отклонения популяции?"
   ]
  },
  {
   "cell_type": "code",
   "execution_count": 12,
   "id": "047420cd-6057-47a6-a04c-8532c78b3027",
   "metadata": {},
   "outputs": [
    {
     "name": "stdout",
     "output_type": "stream",
     "text": [
      "Точечная оценка среднего значения: 34.0\n",
      "Точечная оценка стандартного отклонения популяции: 18.580904176062045\n"
     ]
    }
   ],
   "source": [
    "import numpy as np\n",
    "\n",
    "data = np.array([6, 8, 11, 11, 17, 21, 34, 35, 41, 42, 43, 46, 54, 54, 59, 62])\n",
    "\n",
    "mean_estimate = np.mean(data)\n",
    "print(f\"Точечная оценка среднего значения: {mean_estimate}\")\n",
    "\n",
    "std_population_estimate = np.std(data, ddof=0)\n",
    "print(f\"Точечная оценка стандартного отклонения популяции: {std_population_estimate}\")"
   ]
  },
  {
   "cell_type": "code",
   "execution_count": null,
   "id": "d31944db-ed78-449f-a19f-e8e19f702dd6",
   "metadata": {},
   "outputs": [],
   "source": []
  },
  {
   "cell_type": "markdown",
   "id": "da5243c0-5f28-4ef6-8b8a-e2a11942a56c",
   "metadata": {},
   "source": [
    "**# 2**\n",
    "\n",
    "24% всех производимых шоколадных драже M&M's красятся в синий цвет. В стандартном пакете чаще всего содержится 17 драже. Какова вероятность, что в купленном вами в магазине пакетике, доля синих драже будет больше 40%?"
   ]
  },
  {
   "cell_type": "code",
   "execution_count": 17,
   "id": "78afe77d-33af-4773-b39f-8b92a03e8f66",
   "metadata": {},
   "outputs": [
    {
     "name": "stdout",
     "output_type": "stream",
     "text": [
      "Вероятность, что доля синих драже будет больше 40%: 0.1037\n"
     ]
    }
   ],
   "source": [
    "from scipy.stats import norm\n",
    "\n",
    "n = 17  \n",
    "p = 0.24  \n",
    "x_threshold = 0.4 * n  \n",
    "\n",
    "mu = n * p  \n",
    "sigma = np.sqrt(n * p * (1 - p)) \n",
    "\n",
    "x_continuous = x_threshold - 0.5\n",
    "\n",
    "probability = 1 - norm.cdf(x_continuous, mu, sigma)\n",
    "print(f\"Вероятность, что доля синих драже будет больше 40%: {probability:.4f}\")"
   ]
  },
  {
   "cell_type": "code",
   "execution_count": null,
   "id": "1a049ef0-9892-43e9-9f8d-b3594cc5ffc3",
   "metadata": {},
   "outputs": [],
   "source": []
  },
  {
   "cell_type": "markdown",
   "id": "873b094f-175f-4189-8756-13b469fe0f90",
   "metadata": {},
   "source": [
    "**#3**\n",
    "\n",
    "64 мужчины были выбраны случайным образом и их веса были измерены. Среднее значение выборки составило 84 кг, а стандартное отклонение - 24 кг. Рассчитайте доверительный интервал для среднего значения популяции с 90%-м уровнем доверия."
   ]
  },
  {
   "cell_type": "code",
   "execution_count": 21,
   "id": "9ae23a97-f71a-4522-a6cc-65d62a56c611",
   "metadata": {},
   "outputs": [
    {
     "name": "stdout",
     "output_type": "stream",
     "text": [
      "90% доверительный интервал для среднего веса: (78.99, 89.01)\n"
     ]
    }
   ],
   "source": [
    "mean_weight = 84  \n",
    "std_weight = 24  \n",
    "sample_size = 64  \n",
    "df = sample_size - 1  \n",
    "confidence_level = 0.90\n",
    "\n",
    "alpha = 1 - confidence_level\n",
    "t_critical = t.ppf(1 - alpha/2, df)\n",
    "\n",
    "margin_of_error = t_critical * (std_weight / np.sqrt(sample_size))\n",
    "ci_lower = mean_weight - margin_of_error\n",
    "ci_upper = mean_weight + margin_of_error\n",
    "\n",
    "print(f\"90% доверительный интервал для среднего веса: ({ci_lower:.2f}, {ci_upper:.2f})\")"
   ]
  },
  {
   "cell_type": "code",
   "execution_count": null,
   "id": "cca4781a-cc1d-4909-9332-6dfab05ab089",
   "metadata": {},
   "outputs": [],
   "source": []
  },
  {
   "cell_type": "markdown",
   "id": "75f21251-5a6f-4065-b1a7-e883da0dacc8",
   "metadata": {},
   "source": [
    "**#4**\n",
    "\n",
    "В 2003 году Дартмутская Медицинская Школа запустила исследование для изучения связи между просмотром фильмов с курящими актёрами и началом курения среди подростков. В исследовании были случайным образом отобраны 6522 американских подростка в возрасте 10-14 лет, которые никогда не пробовали курить до этого. Из тех, кто впоследствии попробовал курить впервые, 38% сделали это из-за воздействия курения в фильмах. Оцените долю всех американских подростков в возрасте 10-14 лет, которые начали курить из-за просмотра курящих актеров в фильмах, построив 95% доверительный интервал."
   ]
  },
  {
   "cell_type": "code",
   "execution_count": 23,
   "id": "3b974f10-58a9-4d3b-a52d-7d4ec2c11030",
   "metadata": {},
   "outputs": [
    {
     "name": "stdout",
     "output_type": "stream",
     "text": [
      "95% доверительный интервал для доли подростков, начавших курить из-за фильмов: (0.3682, 0.3918)\n"
     ]
    }
   ],
   "source": [
    "sample_size_teens = 6522  \n",
    "p_hat = 0.38  \n",
    "confidence_level_teens = 0.95\n",
    "z_critical = norm.ppf(1 - (1 - confidence_level_teens) / 2)\n",
    "\n",
    "margin_of_error_teens = z_critical * np.sqrt((p_hat * (1 - p_hat)) / sample_size_teens)\n",
    "ci_lower_teens = p_hat - margin_of_error_teens\n",
    "ci_upper_teens = p_hat + margin_of_error_teens\n",
    "\n",
    "print(f\"95% доверительный интервал для доли подростков, начавших курить из-за фильмов: ({ci_lower_teens:.4f}, {ci_upper_teens:.4f})\")"
   ]
  },
  {
   "cell_type": "code",
   "execution_count": null,
   "id": "f88e3b14-0ac5-4eab-8aac-d25765c8530b",
   "metadata": {},
   "outputs": [],
   "source": []
  },
  {
   "cell_type": "markdown",
   "id": "2337d66c-6c74-49fb-998e-7daad3998652",
   "metadata": {},
   "source": [
    "**#5**\n",
    "\n",
    "49 женщин, были выбраны случайным образом и их высота была измерена. Среднее значение выборки составило 164 см, стандартное отклонение - 20 см. Рассчитайте доверительный интервал для среднего значения популяции с 95%-м уровнем доверия."
   ]
  },
  {
   "cell_type": "code",
   "execution_count": 25,
   "id": "e5cc6623-44a9-42dc-ace0-4cf63580d61e",
   "metadata": {},
   "outputs": [
    {
     "name": "stdout",
     "output_type": "stream",
     "text": [
      "95% доверительный интервал для среднего роста: (158.26, 169.74)\n"
     ]
    }
   ],
   "source": [
    "mean_height = 164  \n",
    "std_height = 20  \n",
    "sample_size_women = 49  \n",
    "df_women = sample_size_women - 1 \n",
    "confidence_level_women = 0.95\n",
    "\n",
    "t_critical_women = t.ppf(1 - (1 - confidence_level_women) / 2, df_women)\n",
    "\n",
    "margin_of_error_women = t_critical_women * (std_height / np.sqrt(sample_size_women))\n",
    "ci_lower_women = mean_height - margin_of_error_women\n",
    "ci_upper_women = mean_height + margin_of_error_women\n",
    "\n",
    "print(f\"95% доверительный интервал для среднего роста: ({ci_lower_women:.2f}, {ci_upper_women:.2f})\")"
   ]
  },
  {
   "cell_type": "code",
   "execution_count": null,
   "id": "eb743717-d487-4a9f-b66f-41f1435df08e",
   "metadata": {},
   "outputs": [],
   "source": []
  },
  {
   "cell_type": "code",
   "execution_count": null,
   "id": "68fb5c97-9fa8-4b0d-83a5-3ad44f463707",
   "metadata": {},
   "outputs": [],
   "source": []
  }
 ],
 "metadata": {
  "kernelspec": {
   "display_name": "Python 3 (ipykernel)",
   "language": "python",
   "name": "python3"
  },
  "language_info": {
   "codemirror_mode": {
    "name": "ipython",
    "version": 3
   },
   "file_extension": ".py",
   "mimetype": "text/x-python",
   "name": "python",
   "nbconvert_exporter": "python",
   "pygments_lexer": "ipython3",
   "version": "3.12.7"
  }
 },
 "nbformat": 4,
 "nbformat_minor": 5
}
