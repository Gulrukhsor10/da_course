{
 "cells": [
  {
   "cell_type": "markdown",
   "metadata": {},
   "source": [
    "# Заголовок и метаданные\n",
    "\"\"\"\n",
    "# Case Study по модулю SQL\n",
    "# Имя Фамилия: Сафарова Гулрухсор\n",
    "# Дата выполнения: 23 марта 2025\n",
    "\"\"\""
   ]
  },
  {
   "cell_type": "code",
   "execution_count": 22,
   "metadata": {},
   "outputs": [
    {
     "ename": "OperationalError",
     "evalue": "connection to server at \"localhost\" (::1), port 5432 failed: FATAL:  password authentication failed for user \"Gulrukhsor\"\n",
     "output_type": "error",
     "traceback": [
      "\u001b[1;31m---------------------------------------------------------------------------\u001b[0m",
      "\u001b[1;31mOperationalError\u001b[0m                          Traceback (most recent call last)",
      "Cell \u001b[1;32mIn[22], line 5\u001b[0m\n\u001b[0;32m      2\u001b[0m \u001b[38;5;28;01mimport\u001b[39;00m\u001b[38;5;250m \u001b[39m\u001b[38;5;21;01mpandas\u001b[39;00m\u001b[38;5;250m \u001b[39m\u001b[38;5;28;01mas\u001b[39;00m\u001b[38;5;250m \u001b[39m\u001b[38;5;21;01mpd\u001b[39;00m\n\u001b[0;32m      4\u001b[0m \u001b[38;5;66;03m# Создание подключения к базе данных PostgreSQL\u001b[39;00m\n\u001b[1;32m----> 5\u001b[0m conn \u001b[38;5;241m=\u001b[39m \u001b[43mpsycopg2\u001b[49m\u001b[38;5;241;43m.\u001b[39;49m\u001b[43mconnect\u001b[49m\u001b[43m(\u001b[49m\n\u001b[0;32m      6\u001b[0m \u001b[43m    \u001b[49m\u001b[43mdbname\u001b[49m\u001b[38;5;241;43m=\u001b[39;49m\u001b[38;5;124;43m\"\u001b[39;49m\u001b[38;5;124;43mpostgres\u001b[39;49m\u001b[38;5;124;43m\"\u001b[39;49m\u001b[43m,\u001b[49m\u001b[43m   \u001b[49m\n\u001b[0;32m      7\u001b[0m \u001b[43m    \u001b[49m\u001b[43muser\u001b[49m\u001b[38;5;241;43m=\u001b[39;49m\u001b[38;5;124;43m\"\u001b[39;49m\u001b[38;5;124;43mGulrukhsor\u001b[39;49m\u001b[38;5;124;43m\"\u001b[39;49m\u001b[43m,\u001b[49m\u001b[43m         \u001b[49m\n\u001b[0;32m      8\u001b[0m \u001b[43m    \u001b[49m\u001b[43mpassword\u001b[49m\u001b[38;5;241;43m=\u001b[39;49m\u001b[38;5;124;43m\"\u001b[39;49m\u001b[38;5;124;43m123\u001b[39;49m\u001b[38;5;124;43m\"\u001b[39;49m\u001b[43m,\u001b[49m\u001b[43m \u001b[49m\n\u001b[0;32m      9\u001b[0m \u001b[43m    \u001b[49m\u001b[43mhost\u001b[49m\u001b[38;5;241;43m=\u001b[39;49m\u001b[38;5;124;43m\"\u001b[39;49m\u001b[38;5;124;43mlocalhost\u001b[39;49m\u001b[38;5;124;43m\"\u001b[39;49m\u001b[43m,\u001b[49m\u001b[43m         \u001b[49m\n\u001b[0;32m     10\u001b[0m \u001b[43m    \u001b[49m\u001b[43mport\u001b[49m\u001b[38;5;241;43m=\u001b[39;49m\u001b[38;5;124;43m\"\u001b[39;49m\u001b[38;5;124;43m5432\u001b[39;49m\u001b[38;5;124;43m\"\u001b[39;49m\u001b[43m               \u001b[49m\n\u001b[0;32m     11\u001b[0m \u001b[43m)\u001b[49m\n\u001b[0;32m     13\u001b[0m \u001b[38;5;66;03m# Функция для выполнения SQL-запросов\u001b[39;00m\n\u001b[0;32m     14\u001b[0m \u001b[38;5;28;01mdef\u001b[39;00m\u001b[38;5;250m \u001b[39m\u001b[38;5;21mrun_query\u001b[39m(query):\n",
      "File \u001b[1;32mc:\\Users\\gulru\\Desktop\\Data Analyst\\Git\\da_course\\.venv\\Lib\\site-packages\\psycopg2\\__init__.py:135\u001b[0m, in \u001b[0;36mconnect\u001b[1;34m(dsn, connection_factory, cursor_factory, **kwargs)\u001b[0m\n\u001b[0;32m    132\u001b[0m     kwasync[\u001b[38;5;124m'\u001b[39m\u001b[38;5;124masync_\u001b[39m\u001b[38;5;124m'\u001b[39m] \u001b[38;5;241m=\u001b[39m kwargs\u001b[38;5;241m.\u001b[39mpop(\u001b[38;5;124m'\u001b[39m\u001b[38;5;124masync_\u001b[39m\u001b[38;5;124m'\u001b[39m)\n\u001b[0;32m    134\u001b[0m dsn \u001b[38;5;241m=\u001b[39m _ext\u001b[38;5;241m.\u001b[39mmake_dsn(dsn, \u001b[38;5;241m*\u001b[39m\u001b[38;5;241m*\u001b[39mkwargs)\n\u001b[1;32m--> 135\u001b[0m conn \u001b[38;5;241m=\u001b[39m \u001b[43m_connect\u001b[49m\u001b[43m(\u001b[49m\u001b[43mdsn\u001b[49m\u001b[43m,\u001b[49m\u001b[43m \u001b[49m\u001b[43mconnection_factory\u001b[49m\u001b[38;5;241;43m=\u001b[39;49m\u001b[43mconnection_factory\u001b[49m\u001b[43m,\u001b[49m\u001b[43m \u001b[49m\u001b[38;5;241;43m*\u001b[39;49m\u001b[38;5;241;43m*\u001b[39;49m\u001b[43mkwasync\u001b[49m\u001b[43m)\u001b[49m\n\u001b[0;32m    136\u001b[0m \u001b[38;5;28;01mif\u001b[39;00m cursor_factory \u001b[38;5;129;01mis\u001b[39;00m \u001b[38;5;129;01mnot\u001b[39;00m \u001b[38;5;28;01mNone\u001b[39;00m:\n\u001b[0;32m    137\u001b[0m     conn\u001b[38;5;241m.\u001b[39mcursor_factory \u001b[38;5;241m=\u001b[39m cursor_factory\n",
      "\u001b[1;31mOperationalError\u001b[0m: connection to server at \"localhost\" (::1), port 5432 failed: FATAL:  password authentication failed for user \"Gulrukhsor\"\n"
     ]
    }
   ],
   "source": [
    "import psycopg2\n",
    "import pandas as pd\n",
    "\n",
    "# Создание подключения к базе данных PostgreSQL\n",
    "conn = psycopg2.connect(\n",
    "    dbname=\"postgres\",   \n",
    "    user=\"Gulrukhsor\",         \n",
    "    password=\"123\", \n",
    "    host=\"localhost\",         \n",
    "    port=\"5432\"               \n",
    ")\n",
    "\n",
    "# Функция для выполнения SQL-запросов\n",
    "def run_query(query):\n",
    "    with conn.cursor() as cursor:\n",
    "        cursor.execute(query)\n",
    "        conn.commit()"
   ]
  },
  {
   "cell_type": "markdown",
   "metadata": {},
   "source": [
    "# Блок 1. Создание схемы и таблиц\n",
    "# В базе данных создайте новую схему adv_works. На основе данных из файла создайте в схеме adv_works таблицы и соедините их между собою по основным и внешним ключам."
   ]
  },
  {
   "cell_type": "code",
   "execution_count": 23,
   "metadata": {},
   "outputs": [
    {
     "ename": "NameError",
     "evalue": "name 'conn' is not defined",
     "output_type": "error",
     "traceback": [
      "\u001b[1;31m---------------------------------------------------------------------------\u001b[0m",
      "\u001b[1;31mNameError\u001b[0m                                 Traceback (most recent call last)",
      "Cell \u001b[1;32mIn[23], line 5\u001b[0m\n\u001b[0;32m      1\u001b[0m \u001b[38;5;66;03m# Создание схемы adv_works\u001b[39;00m\n\u001b[0;32m      2\u001b[0m create_schema_query \u001b[38;5;241m=\u001b[39m \u001b[38;5;124m\"\"\"\u001b[39m\n\u001b[0;32m      3\u001b[0m \u001b[38;5;124mCREATE SCHEMA IF NOT EXISTS adv_works;\u001b[39m\n\u001b[0;32m      4\u001b[0m \u001b[38;5;124m\"\"\"\u001b[39m\n\u001b[1;32m----> 5\u001b[0m \u001b[43mrun_query\u001b[49m\u001b[43m(\u001b[49m\u001b[43mcreate_schema_query\u001b[49m\u001b[43m)\u001b[49m\n\u001b[0;32m      7\u001b[0m \u001b[38;5;66;03m# Создание таблиц в схеме adv_works\u001b[39;00m\n\u001b[0;32m      8\u001b[0m create_tables_queries \u001b[38;5;241m=\u001b[39m [\n\u001b[0;32m      9\u001b[0m \u001b[38;5;250m    \u001b[39m\u001b[38;5;124;03m\"\"\"\u001b[39;00m\n\u001b[0;32m     10\u001b[0m \u001b[38;5;124;03m    CREATE TABLE IF NOT EXISTS adv_works.products (\u001b[39;00m\n\u001b[1;32m   (...)\u001b[0m\n\u001b[0;32m     54\u001b[0m \u001b[38;5;124;03m    \"\"\"\u001b[39;00m\n\u001b[0;32m     55\u001b[0m ]\n",
      "Cell \u001b[1;32mIn[4], line 3\u001b[0m, in \u001b[0;36mrun_query\u001b[1;34m(query)\u001b[0m\n\u001b[0;32m      2\u001b[0m \u001b[38;5;28;01mdef\u001b[39;00m\u001b[38;5;250m \u001b[39m\u001b[38;5;21mrun_query\u001b[39m(query):\n\u001b[1;32m----> 3\u001b[0m     \u001b[38;5;28;01mwith\u001b[39;00m \u001b[43mconn\u001b[49m\u001b[38;5;241m.\u001b[39mcursor() \u001b[38;5;28;01mas\u001b[39;00m cursor:\n\u001b[0;32m      4\u001b[0m         cursor\u001b[38;5;241m.\u001b[39mexecute(query)\n\u001b[0;32m      5\u001b[0m         conn\u001b[38;5;241m.\u001b[39mcommit()\n",
      "\u001b[1;31mNameError\u001b[0m: name 'conn' is not defined"
     ]
    }
   ],
   "source": [
    "# Создание схемы adv_works\n",
    "create_schema_query = \"\"\"\n",
    "CREATE SCHEMA IF NOT EXISTS adv_works;\n",
    "\"\"\"\n",
    "run_query(create_schema_query)\n",
    "\n",
    "# Создание таблиц в схеме adv_works\n",
    "create_tables_queries = [\n",
    "    \"\"\"\n",
    "    CREATE TABLE IF NOT EXISTS adv_works.products (\n",
    "        product_id SERIAL PRIMARY KEY,\n",
    "        product_name VARCHAR(255),\n",
    "        category_id INT,\n",
    "        price DECIMAL(10, 2)\n",
    "    );\n",
    "    \"\"\",\n",
    "    \"\"\"\n",
    "    CREATE TABLE IF NOT EXISTS adv_works.product_categories (\n",
    "        category_id SERIAL PRIMARY KEY,\n",
    "        category_name VARCHAR(255)\n",
    "    );\n",
    "    \"\"\",\n",
    "    \"\"\"\n",
    "    CREATE TABLE IF NOT EXISTS adv_works.customers (\n",
    "        customer_id SERIAL PRIMARY KEY,\n",
    "        first_name VARCHAR(100),\n",
    "        last_name VARCHAR(100),\n",
    "        email VARCHAR(255) UNIQUE,\n",
    "        occupation VARCHAR(100),\n",
    "        yearly_income DECIMAL(10, 2),\n",
    "        marital_status VARCHAR(50),\n",
    "        has_children BOOLEAN\n",
    "    );\n",
    "    \"\"\",\n",
    "    \"\"\"\n",
    "    CREATE TABLE IF NOT EXISTS adv_works.orders (\n",
    "        order_id SERIAL PRIMARY KEY,\n",
    "        customer_id INT,\n",
    "        order_date DATE,\n",
    "        total_amount DECIMAL(10, 2),\n",
    "        FOREIGN KEY (customer_id) REFERENCES adv_works.customers(customer_id)\n",
    "    );\n",
    "    \"\"\",\n",
    "    \"\"\"\n",
    "    CREATE TABLE IF NOT EXISTS adv_works.order_details (\n",
    "        order_detail_id SERIAL PRIMARY KEY,\n",
    "        order_id INT,\n",
    "        product_id INT,\n",
    "        quantity INT,\n",
    "        total_price DECIMAL(10, 2),\n",
    "        FOREIGN KEY (order_id) REFERENCES adv_works.orders(order_id),\n",
    "        FOREIGN KEY (product_id) REFERENCES adv_works.products(product_id)\n",
    "    );\n",
    "    \"\"\"\n",
    "]\n",
    "\n",
    "# Выполнение запросов для создания таблиц\n",
    "for query in create_tables_queries:\n",
    "    run_query(query)\n"
   ]
  },
  {
   "cell_type": "markdown",
   "metadata": {},
   "source": [
    "# Блок 2. Аналитические задачи"
   ]
  },
  {
   "cell_type": "markdown",
   "metadata": {},
   "source": [
    "# Секция 1. Анализ клиентов\n",
    "# Сегментация по доходу: Посчитайте средний годовой личный доход клиентов (YearlyIncome) в разбивке по роду деятельности (Occupation). Итоговая таблица должна содержать следующие поля: occupation, number_of_customers, avg_income.\n",
    "# Семейный профиль: Посчитайте долю (в процентах) клиентов с детьми и долю клиентов без детей. Итоговая таблица должна содержать следующие поля: has_children (где 1 означает - имеет детей и 0 - не имеет детей), pct_of_customer_base.\n",
    "# Высокодоходные клиенты: Сформируйте список топ 10 клиентов с наибольшей суммой покупок (поле SalesAmount). Итоговая таблица должна содержать следующие поля: customer_key, customer_name, total_purchase.\n",
    "# Влияние семейного положения: Посчитайте среднюю сумму продаж в разбивке по семейному положению клиентов (MaritalStatus) и определите насколько сильно различаются средние суммы между двумя группами. Итоговая таблица должна содержать следующие поля: year, marital_status, avg_sales_amount."
   ]
  },
  {
   "cell_type": "code",
   "execution_count": 24,
   "metadata": {},
   "outputs": [
    {
     "ename": "SyntaxError",
     "evalue": "invalid syntax (3746502569.py, line 2)",
     "output_type": "error",
     "traceback": [
      "\u001b[1;36m  Cell \u001b[1;32mIn[24], line 2\u001b[1;36m\u001b[0m\n\u001b[1;33m    SELECT occupation,\u001b[0m\n\u001b[1;37m           ^\u001b[0m\n\u001b[1;31mSyntaxError\u001b[0m\u001b[1;31m:\u001b[0m invalid syntax\n"
     ]
    }
   ],
   "source": [
    "# Сегментация по доходу\n",
    "SELECT occupation, \n",
    "       COUNT(customer_id) AS number_of_customers,\n",
    "       AVG(yearly_income) AS avg_income\n",
    "FROM adv_works.customers\n",
    "GROUP BY occupation;\n"
   ]
  },
  {
   "cell_type": "code",
   "execution_count": 25,
   "metadata": {},
   "outputs": [
    {
     "ename": "SyntaxError",
     "evalue": "invalid syntax (2115600594.py, line 2)",
     "output_type": "error",
     "traceback": [
      "\u001b[1;36m  Cell \u001b[1;32mIn[25], line 2\u001b[1;36m\u001b[0m\n\u001b[1;33m    SELECT has_children,\u001b[0m\n\u001b[1;37m           ^\u001b[0m\n\u001b[1;31mSyntaxError\u001b[0m\u001b[1;31m:\u001b[0m invalid syntax\n"
     ]
    }
   ],
   "source": [
    "# Семейный профиль\n",
    "SELECT has_children, \n",
    "       COUNT(customer_id) * 100.0 / (SELECT COUNT(*) FROM adv_works.customers) AS pct_of_customer_base\n",
    "FROM adv_works.customers\n",
    "GROUP BY has_children;"
   ]
  },
  {
   "cell_type": "code",
   "execution_count": 26,
   "metadata": {},
   "outputs": [
    {
     "ename": "SyntaxError",
     "evalue": "invalid syntax (468658964.py, line 2)",
     "output_type": "error",
     "traceback": [
      "\u001b[1;36m  Cell \u001b[1;32mIn[26], line 2\u001b[1;36m\u001b[0m\n\u001b[1;33m    SELECT c.customer_id,\u001b[0m\n\u001b[1;37m           ^\u001b[0m\n\u001b[1;31mSyntaxError\u001b[0m\u001b[1;31m:\u001b[0m invalid syntax\n"
     ]
    }
   ],
   "source": [
    "# Высокодоходные клиенты\n",
    "SELECT c.customer_id, \n",
    "       CONCAT(c.first_name, ' ', c.last_name) AS customer_name, \n",
    "       SUM(od.total_price) AS total_purchase\n",
    "FROM adv_works.customers c\n",
    "JOIN adv_works.orders o ON c.customer_id = o.customer_id\n",
    "JOIN adv_works.order_details od ON o.order_id = od.order_id\n",
    "GROUP BY c.customer_id\n",
    "ORDER BY total_purchase DESC\n",
    "LIMIT 10;"
   ]
  },
  {
   "cell_type": "code",
   "execution_count": 27,
   "metadata": {},
   "outputs": [
    {
     "ename": "SyntaxError",
     "evalue": "invalid syntax (2666216000.py, line 2)",
     "output_type": "error",
     "traceback": [
      "\u001b[1;36m  Cell \u001b[1;32mIn[27], line 2\u001b[1;36m\u001b[0m\n\u001b[1;33m    SELECT EXTRACT(YEAR FROM o.order_date) AS year,\u001b[0m\n\u001b[1;37m           ^\u001b[0m\n\u001b[1;31mSyntaxError\u001b[0m\u001b[1;31m:\u001b[0m invalid syntax\n"
     ]
    }
   ],
   "source": [
    "# Влияние семейного положения\n",
    "SELECT EXTRACT(YEAR FROM o.order_date) AS year,\n",
    "       c.marital_status, \n",
    "       AVG(od.total_price) AS avg_sales_amount\n",
    "FROM adv_works.orders o\n",
    "JOIN adv_works.customers c ON o.customer_id = c.customer_id\n",
    "JOIN adv_works.order_details od ON o.order_id = od.order_id\n",
    "GROUP BY year, c.marital_status;"
   ]
  },
  {
   "cell_type": "markdown",
   "metadata": {},
   "source": [
    "# Секция 2. Анализ продаж\n",
    "# Ежемесячные продажи: Создайте отчёт продаж по месяцам за последние 2 года (2003, 2004). Итоговая таблица должна содержать следующие поля: year, monthkey, month_name, sales_count (количество продаж), sales_amount.\n",
    "# Продажи по регионам: Посчитайте сумму продаж в разбивке по регионам. Итоговая таблица должна содержать следующие поля: region, sales_count, sales_amount."
   ]
  },
  {
   "cell_type": "code",
   "execution_count": 28,
   "metadata": {},
   "outputs": [
    {
     "ename": "SyntaxError",
     "evalue": "invalid syntax (231156942.py, line 2)",
     "output_type": "error",
     "traceback": [
      "\u001b[1;36m  Cell \u001b[1;32mIn[28], line 2\u001b[1;36m\u001b[0m\n\u001b[1;33m    SELECT EXTRACT(YEAR FROM o.order_date) AS year,\u001b[0m\n\u001b[1;37m           ^\u001b[0m\n\u001b[1;31mSyntaxError\u001b[0m\u001b[1;31m:\u001b[0m invalid syntax\n"
     ]
    }
   ],
   "source": [
    "# Ежемесячные продажи\n",
    "SELECT EXTRACT(YEAR FROM o.order_date) AS year,\n",
    "       EXTRACT(MONTH FROM o.order_date) AS monthkey,\n",
    "       TO_CHAR(o.order_date, 'Month') AS month_name,\n",
    "       COUNT(o.order_id) AS sales_count,\n",
    "       SUM(od.total_price) AS sales_amount\n",
    "FROM adv_works.orders o\n",
    "JOIN adv_works.order_details od ON o.order_id = od.order_id\n",
    "WHERE EXTRACT(YEAR FROM o.order_date) IN (2003, 2004)\n",
    "GROUP BY year, monthkey\n",
    "ORDER BY year, monthkey;"
   ]
  },
  {
   "cell_type": "code",
   "execution_count": 29,
   "metadata": {},
   "outputs": [
    {
     "ename": "SyntaxError",
     "evalue": "invalid syntax (533901263.py, line 2)",
     "output_type": "error",
     "traceback": [
      "\u001b[1;36m  Cell \u001b[1;32mIn[29], line 2\u001b[1;36m\u001b[0m\n\u001b[1;33m    SELECT r.region_name,\u001b[0m\n\u001b[1;37m           ^\u001b[0m\n\u001b[1;31mSyntaxError\u001b[0m\u001b[1;31m:\u001b[0m invalid syntax\n"
     ]
    }
   ],
   "source": [
    "# Продажи по регионам\n",
    "SELECT r.region_name, \n",
    "       COUNT(o.order_id) AS sales_count, \n",
    "       SUM(od.total_price) AS sales_amount\n",
    "FROM adv_works.orders o\n",
    "JOIN adv_works.order_details od ON o.order_id = od.order_id\n",
    "JOIN adv_works.regions r ON o.region_id = r.region_id\n",
    "GROUP BY r.region_name;"
   ]
  },
  {
   "cell_type": "markdown",
   "metadata": {},
   "source": [
    "# Секция 3. Анализ продуктов\n",
    "# Доля продаж: Посчитайте какую долю от общих продаж составляет каждая категория продуктов. Итоговая таблица должна содержать следующие поля: year, product_key, product_category_key, english_product_category_name, sales_amount, pct_of_total_sales.\n",
    "# Самые продаваемые продукты: Определите топ 5 продуктов с наибольшей суммой продаж. Итоговая таблица должна содержать следующие поля: product_key, product_name, english_product_category_name, sales_amount\n",
    "# Маржа от продаж: Посчитайте разницу между суммой продаж (SalesAmount) за минусом себестоимости (TotalProductCost), налогов (*TaxAmt) и расходов на доставку (Freight) по каждому продукту в разбивке по годам и месяцам. Итоговая таблица должна содержать следующие поля: year, monthkey, month_name, product_key, product_name, sales_amount, total_product_cost, tax_amt, freight, margin, margin_pct (маржа как процент от суммы продаж)."
   ]
  },
  {
   "cell_type": "code",
   "execution_count": 30,
   "metadata": {},
   "outputs": [
    {
     "ename": "SyntaxError",
     "evalue": "invalid syntax (1716410731.py, line 2)",
     "output_type": "error",
     "traceback": [
      "\u001b[1;36m  Cell \u001b[1;32mIn[30], line 2\u001b[1;36m\u001b[0m\n\u001b[1;33m    SELECT EXTRACT(YEAR FROM o.order_date) AS year,\u001b[0m\n\u001b[1;37m           ^\u001b[0m\n\u001b[1;31mSyntaxError\u001b[0m\u001b[1;31m:\u001b[0m invalid syntax\n"
     ]
    }
   ],
   "source": [
    "# Доля продаж каждой категории продуктов\n",
    "SELECT EXTRACT(YEAR FROM o.order_date) AS year,\n",
    "       p.product_id AS product_key,\n",
    "       p.category_id AS product_category_key,\n",
    "       c.category_name AS english_product_category_name,\n",
    "       SUM(od.total_price) AS sales_amount,\n",
    "       (SUM(od.total_price) * 100.0 / \n",
    "        (SELECT SUM(od2.total_price) FROM adv_works.order_details od2)) AS pct_of_total_sales\n",
    "FROM adv_works.products p\n",
    "JOIN adv_works.order_details od ON p.product_id = od.product_id\n",
    "JOIN adv_works.product_categories c ON p.category_id = c.category_id\n",
    "JOIN adv_works.orders o ON od.order_id = o.order_id\n",
    "GROUP BY year, product_key, product_category_key, english_product_category_name\n",
    "ORDER BY sales_amount DESC;"
   ]
  },
  {
   "cell_type": "code",
   "execution_count": 31,
   "metadata": {},
   "outputs": [
    {
     "ename": "SyntaxError",
     "evalue": "invalid syntax (1757015013.py, line 2)",
     "output_type": "error",
     "traceback": [
      "\u001b[1;36m  Cell \u001b[1;32mIn[31], line 2\u001b[1;36m\u001b[0m\n\u001b[1;33m    SELECT p.product_id AS product_key,\u001b[0m\n\u001b[1;37m           ^\u001b[0m\n\u001b[1;31mSyntaxError\u001b[0m\u001b[1;31m:\u001b[0m invalid syntax\n"
     ]
    }
   ],
   "source": [
    "# Самые продаваемые продукты\n",
    "SELECT p.product_id AS product_key, \n",
    "       p.product_name, \n",
    "       c.category_name AS english_product_category_name, \n",
    "       SUM(od.total_price) AS sales_amount\n",
    "FROM adv_works.products p\n",
    "JOIN adv_works.order_details od ON p.product_id = od.product_id\n",
    "JOIN adv_works.product_categories c ON p.category_id = c.category_id\n",
    "JOIN adv_works.orders o ON od.order_id = o.order_id\n",
    "GROUP BY product_key, p.product_name, c.category_name\n",
    "ORDER BY sales_amount DESC\n",
    "LIMIT 5;"
   ]
  },
  {
   "cell_type": "code",
   "execution_count": 32,
   "metadata": {},
   "outputs": [
    {
     "ename": "SyntaxError",
     "evalue": "invalid syntax (4116512290.py, line 2)",
     "output_type": "error",
     "traceback": [
      "\u001b[1;36m  Cell \u001b[1;32mIn[32], line 2\u001b[1;36m\u001b[0m\n\u001b[1;33m    SELECT EXTRACT(YEAR FROM o.order_date) AS year,\u001b[0m\n\u001b[1;37m           ^\u001b[0m\n\u001b[1;31mSyntaxError\u001b[0m\u001b[1;31m:\u001b[0m invalid syntax\n"
     ]
    }
   ],
   "source": [
    "# Маржа от продаж по продуктам\n",
    "SELECT EXTRACT(YEAR FROM o.order_date) AS year,\n",
    "       EXTRACT(MONTH FROM o.order_date) AS monthkey,\n",
    "       TO_CHAR(o.order_date, 'Month') AS month_name,\n",
    "       p.product_id AS product_key,\n",
    "       p.product_name,\n",
    "       SUM(od.total_price) AS sales_amount,\n",
    "       SUM(p.total_product_cost) AS total_product_cost,\n",
    "       SUM(o.tax_amt) AS tax_amt,\n",
    "       SUM(o.freight) AS freight,\n",
    "       (SUM(od.total_price) - SUM(p.total_product_cost) - SUM(o.tax_amt) - SUM(o.freight)) AS margin,\n",
    "       ((SUM(od.total_price) - SUM(p.total_product_cost) - SUM(o.tax_amt) - SUM(o.freight)) * 100.0 / SUM(od.total_price)) AS margin_pct\n",
    "FROM adv_works.products p\n",
    "JOIN adv_works.order_details od ON p.product_id = od.product_id\n",
    "JOIN adv_works.orders o ON od.order_id = o.order_id\n",
    "GROUP BY year, monthkey, month_name, product_key, p.product_name\n",
    "ORDER BY year, monthkey, sales_amount DESC;"
   ]
  },
  {
   "cell_type": "markdown",
   "metadata": {},
   "source": [
    "# Секция 4. Анализ трендов\n",
    "# Квартальный рост: Посчитайте сумму продаж за каждый квартал и их процентное изменение по топ 2 наиболее продаваемым категориям. Итоговая таблица должна содержать следующие поля: year, quarter_id, product_category_key, english_product_category_name, quarter_sales_amount, quarter_over_quarter_growth_pct.\n",
    "# Сравнение будних и выходных (суббота, воскресенье) дней: Посчитайте продажи в разбивке по годам и дням недели. Определите в какие дни в среднем сумма продаж больше. Определите является ли сумма продаж больше в будние или выходные дни. Итоговая таблица должна содержать следующие поля: year, day_name, is_weekend (где 1 означает выходной а 0 будний день), sales_amount."
   ]
  },
  {
   "cell_type": "code",
   "execution_count": 33,
   "metadata": {},
   "outputs": [
    {
     "ename": "SyntaxError",
     "evalue": "invalid syntax (2352194348.py, line 2)",
     "output_type": "error",
     "traceback": [
      "\u001b[1;36m  Cell \u001b[1;32mIn[33], line 2\u001b[1;36m\u001b[0m\n\u001b[1;33m    WITH top_categories AS (\u001b[0m\n\u001b[1;37m         ^\u001b[0m\n\u001b[1;31mSyntaxError\u001b[0m\u001b[1;31m:\u001b[0m invalid syntax\n"
     ]
    }
   ],
   "source": [
    "# Квартальный рост\n",
    "WITH top_categories AS (\n",
    "    SELECT p.category_id AS product_category_key,\n",
    "           c.category_name AS english_product_category_name,\n",
    "           SUM(od.total_price) AS total_sales\n",
    "    FROM adv_works.products p\n",
    "    JOIN adv_works.order_details od ON p.product_id = od.product_id\n",
    "    JOIN adv_works.product_categories c ON p.category_id = c.category_id\n",
    "    GROUP BY p.category_id, c.category_name\n",
    "    ORDER BY total_sales DESC\n",
    "    LIMIT 2\n",
    ")\n",
    "SELECT EXTRACT(YEAR FROM o.order_date) AS year,\n",
    "       EXTRACT(QUARTER FROM o.order_date) AS quarter_id,\n",
    "       p.category_id AS product_category_key,\n",
    "       c.category_name AS english_product_category_name,\n",
    "       SUM(od.total_price) AS quarter_sales_amount,\n",
    "       ROUND(\n",
    "           (SUM(od.total_price) - LAG(SUM(od.total_price)) OVER (PARTITION BY p.category_id ORDER BY EXTRACT(YEAR FROM o.order_date), EXTRACT(QUARTER FROM o.order_date))) \n",
    "           * 100.0 / \n",
    "           LAG(SUM(od.total_price)) OVER (PARTITION BY p.category_id ORDER BY EXTRACT(YEAR FROM o.order_date), EXTRACT(QUARTER FROM o.order_date)),\n",
    "           2\n",
    "       ) AS quarter_over_quarter_growth_pct\n",
    "FROM adv_works.products p\n",
    "JOIN adv_works.order_details od ON p.product_id = od.product_id\n",
    "JOIN adv_works.orders o ON od.order_id = o.order_id\n",
    "JOIN top_categories c ON p.category_id = c.product_category_key\n",
    "GROUP BY year, quarter_id, product_category_key, english_product_category_name\n",
    "ORDER BY year, quarter_id, quarter_sales_amount DESC;"
   ]
  },
  {
   "cell_type": "code",
   "execution_count": 34,
   "metadata": {},
   "outputs": [
    {
     "ename": "SyntaxError",
     "evalue": "invalid syntax (3742317905.py, line 2)",
     "output_type": "error",
     "traceback": [
      "\u001b[1;36m  Cell \u001b[1;32mIn[34], line 2\u001b[1;36m\u001b[0m\n\u001b[1;33m    SELECT EXTRACT(YEAR FROM o.order_date) AS year,\u001b[0m\n\u001b[1;37m           ^\u001b[0m\n\u001b[1;31mSyntaxError\u001b[0m\u001b[1;31m:\u001b[0m invalid syntax\n"
     ]
    }
   ],
   "source": [
    "# Сравнение будних и выходных дней\n",
    "SELECT EXTRACT(YEAR FROM o.order_date) AS year,\n",
    "       TO_CHAR(o.order_date, 'Day') AS day_name,\n",
    "       CASE \n",
    "           WHEN TO_CHAR(o.order_date, 'Day') IN ('Saturday', 'Sunday') THEN 1\n",
    "           ELSE 0\n",
    "       END AS is_weekend,\n",
    "       SUM(od.total_price) AS sales_amount\n",
    "FROM adv_works.orders o\n",
    "JOIN adv_works.order_details od ON o.order_id = od.order_id\n",
    "GROUP BY year, day_name, is_weekend\n",
    "ORDER BY year, is_weekend DESC, sales_amount DESC;"
   ]
  },
  {
   "cell_type": "markdown",
   "metadata": {},
   "source": []
  },
  {
   "cell_type": "markdown",
   "metadata": {},
   "source": []
  },
  {
   "cell_type": "markdown",
   "metadata": {},
   "source": []
  },
  {
   "cell_type": "markdown",
   "metadata": {},
   "source": []
  },
  {
   "cell_type": "markdown",
   "metadata": {},
   "source": []
  },
  {
   "cell_type": "markdown",
   "metadata": {},
   "source": []
  }
 ],
 "metadata": {
  "kernelspec": {
   "display_name": ".venv",
   "language": "python",
   "name": "python3"
  },
  "language_info": {
   "codemirror_mode": {
    "name": "ipython",
    "version": 3
   },
   "file_extension": ".py",
   "mimetype": "text/x-python",
   "name": "python",
   "nbconvert_exporter": "python",
   "pygments_lexer": "ipython3",
   "version": "3.13.1"
  }
 },
 "nbformat": 4,
 "nbformat_minor": 2
}
